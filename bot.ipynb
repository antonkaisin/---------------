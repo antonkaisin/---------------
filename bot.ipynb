{
 "cells": [
  {
   "cell_type": "code",
   "execution_count": 43,
   "metadata": {},
   "outputs": [],
   "source": [
    "import telebot\n",
    "from telebot import types\n",
    "token='6074264754:AAGp0EoZnNPE5yBf-0_MDzHsUfwsWncPzLc'\n",
    "\n",
    "bot = telebot.TeleBot(token)\n",
    "\n",
    "\n",
    "@bot.message_handler(commands=['start'])\n",
    "def start_message(message):\n",
    "  bot.send_message(message.chat.id,\n",
    "    \"  Привет!\\nЯ бот-помощник мини-конференции Conf Dot Com❤️ \\n\\nЯ автоматический бот, поэтому не смогу тебе ответить, если ты отправишь мне какой-то текст😔\\n\\n\\\n",
    "Если есть какие-то вопросы, пиши напрямую @ADarrovskikh\")\n",
    "\n",
    "  bot.send_message(message.chat.id,f'После оплаты ЧЕК и билет будет отправлен на электронную почту')\n",
    "  bot.send_message(message.chat.id,'Чтобы оплатить участие нажми /button и выбери нужный тариф')\n",
    "\n",
    "@bot.message_handler(commands=['button'])\n",
    "def start(message):\n",
    "    markup = types.ReplyKeyboardMarkup(resize_keyboard=True)\n",
    "    btn1 = types.KeyboardButton(\"2.000 руб. (Билет на 1 человека)\")\n",
    "    btn2 = types.KeyboardButton(\"3.800 руб. (Билет на 2 человека)\")\n",
    "    markup.add(btn1, btn2)\n",
    "    bot.send_message(message.chat.id, text=\"{0.first_name}, выбери нужный тебе тариф\".format(message.from_user), reply_markup=markup)\n",
    "\n",
    "chat_channel = '-1001832643860'\n",
    "\n",
    "@bot.message_handler(content_types=['text'])\n",
    "def func(message):\n",
    "    if (message.text == \"2.000 руб. (Билет на 1 человека)\"):\n",
    "        markup = types.ReplyKeyboardMarkup(resize_keyboard=True)\n",
    "        btn1 = types.KeyboardButton(\"Да\")\n",
    "        btn2 = types.KeyboardButton(\"Нет\")\n",
    "        markup.add(btn1, btn2)\n",
    "        bot.send_message(message.chat.id, text=\"{0.first_name}, у тебя есть промокод?\".format(message.from_user), reply_markup=markup)\n",
    "    elif (message.text == \"Да\"):  \n",
    "            bot.send_message(message.chat.id, 'Введи промокод:',reply_markup=telebot.types.ReplyKeyboardRemove())\n",
    "    elif (message.text) in ['111','222','333','444','555']:\n",
    "                bot.send_message(message.chat.id, 'Супер! С учетом скидки стоимость составит ….🥰') \n",
    "                bot.send_message(message.chat.id, 'Отправляем реквизиты для перевода (Тинькофф Банк) \\nВ сообщениях получателю ничего писать не нужно \\n\\n5536913949338194 Анастасия Д. \\n\\nПосле оплаты обязательно присылай скрин сюда')\n",
    "    elif (message.text == \"Нет\"):\n",
    "            bot.send_message(message.chat.id, 'Отправляем реквизиты для перевода (Тинькофф Банк). \\nВ сообщениях получателю ничего писать не нужно \\n\\n5536913949338194 Анастасия Д. \\n\\nПосле оплаты обязательно присылай скрин сюда',reply_markup=telebot.types.ReplyKeyboardRemove())\n",
    "    elif (message.text == \"3.800 руб. (Билет на 2 человека)\"):\n",
    "        markup = types.ReplyKeyboardMarkup(resize_keyboard=True)\n",
    "        btn1 = types.KeyboardButton(\"Да\")\n",
    "        btn2 = types.KeyboardButton(\"Нет\")\n",
    "        markup.add(btn1, btn2)\n",
    "        bot.send_message(message.chat.id, text=\"{0.first_name}, у тебя есть промокод?\".format(message.from_user), reply_markup=markup)\n",
    "    elif (message.text) in ['000']:\n",
    "        bot.send_message(message.chat.id, 'Супер! С учетом скидки стоимость составит ….🥰') \n",
    "        bot.send_message(message.chat.id, 'Отправляем реквизиты для перевода (Тинькофф Банк). \\nВ сообщениях получателю ничего писать не нужно \\n\\n5536913949338194 Анастасия Д. \\n\\nПосле оплаты обязательно присылай скрин сюда')\n",
    "    elif '@' in (message.text):\n",
    "        bot.forward_message(chat_channel, message.chat.id, message.id)\n",
    "        bot.send_message(message.chat.id,'Принято!\\nЕсли остались вопросы — пиши ответным письмом на почту или на @ADarrovskikh ❤️\\n До встречи 12 марта!🕊️')\n",
    "\n",
    "@bot.message_handler(content_types=[\"photo\"])\n",
    "def recent_photo(message):\n",
    "    bot.forward_message(chat_channel, message.chat.id, message.id)\n",
    "    bot.send_message(message.chat.id, 'Отлично! \\nСкоро проверим оплату☺️ \\n\\nА пока напиши, пожалуйста, свое ФИО, почту для отправки чека, билета и ссылки на чат с участниками конференции (перед отправкой проверь написание) \\n\\nМы отправляем все вручную, поэтому письмо на почте появится в течении 2-х часов в рабочее время с 10 до 20 часов🙏')\n",
    "    \n",
    "bot.polling(none_stop=True)"
   ]
  },
  {
   "cell_type": "code",
   "execution_count": null,
   "metadata": {},
   "outputs": [],
   "source": []
  }
 ],
 "metadata": {
  "kernelspec": {
   "display_name": "Python 3",
   "language": "python",
   "name": "python3"
  },
  "language_info": {
   "codemirror_mode": {
    "name": "ipython",
    "version": 3
   },
   "file_extension": ".py",
   "mimetype": "text/x-python",
   "name": "python",
   "nbconvert_exporter": "python",
   "pygments_lexer": "ipython3",
   "version": "3.9.7"
  },
  "orig_nbformat": 4,
  "vscode": {
   "interpreter": {
    "hash": "f93075eebf97bc5e18c38d1a54e461de353c7365fd9def5e44782928585336f0"
   }
  }
 },
 "nbformat": 4,
 "nbformat_minor": 2
}
